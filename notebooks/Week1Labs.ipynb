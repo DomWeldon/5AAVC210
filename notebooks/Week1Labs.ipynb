{
 "cells": [
  {
   "cell_type": "markdown",
   "metadata": {},
   "source": [
    "Week 1 - Introduction Exercises\n",
    "\n",
    "If the line numbers aren't visible, select the button with the image of a keyboard. Type 'line' in the search box and when then select the 'Toggle Line Numbers' option when it is revealed.\n",
    "\n",
    "Reminder 1: The function to output the textual version of an object is\n",
    "print(*objects, sep=' ', end='\\n', file=sys.stdout, flush=False)\n",
    "\n",
    "Reminder 2: A # makes any subsequent text on that line into a comment\n",
    "\n",
    "Run the cell by selecting the 'run cell' option from the Cell menu' or by clicking the 'play' button in the toolbar\n",
    "\n",
    "The exercises you will be asked to do in the lab sessions are a mix of different types:\n",
    "1. Fill in the gaps - the structure of the code is there, you will be asked to fill in the missing parts or expand on what is there\n",
    "2. Debug - the code is there but not quite right. You need to fix it so it runs\n",
    "3. Write your own - you will be asked to write some code that behaves in a given way\n",
    "4. Reflective question - you will not be asked to write real code but plan the structure of a problem in pseudo-code/natural language\n",
    "5. Working example - an example of more complex code that should work, you will be asked to try and understand what is happening in it."
   ]
  },
  {
   "cell_type": "code",
   "execution_count": null,
   "metadata": {
    "collapsed": true
   },
   "outputs": [],
   "source": [
    "import this # run this cell"
   ]
  },
  {
   "cell_type": "code",
   "execution_count": null,
   "metadata": {
    "collapsed": true
   },
   "outputs": [],
   "source": [
    "print(\"Hello World\")  # Replace the single string \"Hello World\" with two strings separated by a comma \n",
    "                      # e.g. \"Hello\", \"World\""
   ]
  },
  {
   "cell_type": "code",
   "execution_count": null,
   "metadata": {},
   "outputs": [],
   "source": [
    "lumberjack = \"okay\"\n",
    "print(XXXX)           # Replace the Xs with the variable name"
   ]
  },
  {
   "cell_type": "code",
   "execution_count": null,
   "metadata": {
    "collapsed": true
   },
   "outputs": [],
   "source": [
    "iam = lumberjack     # What do you think will be printed out?\n",
    "print(iam)"
   ]
  },
  {
   "cell_type": "code",
   "execution_count": null,
   "metadata": {
    "collapsed": true
   },
   "outputs": [],
   "source": [
    "#Uncomment the 'legal' statement(s) assigning strings to variables and print them out in order\n",
    "\n",
    "\n",
    "# variable1 = \"Never gonna\"\n",
    "# my variable = \"stop trying.\"\n",
    "# 1stvariable = \"Your program can\"\n",
    "# return_1 = \"give you\"\n",
    "# variable-1 = \"control over data.\"\n",
    "# variable1 == \"It's time to step\"\n",
    "# VAR1ABLE = \"up\"\n",
    "# return = \"down\""
   ]
  },
  {
   "cell_type": "code",
   "execution_count": null,
   "metadata": {
    "collapsed": true
   },
   "outputs": [],
   "source": [
    "print(\"Spam! \" * 8)"
   ]
  },
  {
   "cell_type": "code",
   "execution_count": null,
   "metadata": {
    "collapsed": true
   },
   "outputs": [],
   "source": [
    "#Write a program that prints these strings:\n",
    "\n",
    "# Yay! Printing.\n",
    "# I'd much rather you 'not'.\n",
    "# I \"said\" do not touch this. "
   ]
  },
  {
   "cell_type": "code",
   "execution_count": null,
   "metadata": {
    "collapsed": true
   },
   "outputs": [],
   "source": [
    "my_name = #add you name as a strings\n",
    "print(\"Hello\")  #change this line so it prints out your name as well as the greeting"
   ]
  },
  {
   "cell_type": "code",
   "execution_count": null,
   "metadata": {
    "collapsed": true
   },
   "outputs": [],
   "source": [
    "print(The weather is wet) "
   ]
  },
  {
   "cell_type": "code",
   "execution_count": null,
   "metadata": {
    "collapsed": true
   },
   "outputs": [],
   "source": [
    "2 + 2"
   ]
  },
  {
   "cell_type": "code",
   "execution_count": null,
   "metadata": {
    "collapsed": true
   },
   "outputs": [],
   "source": [
    "print(2 + 2)  #try running the output.py python file"
   ]
  },
  {
   "cell_type": "code",
   "execution_count": null,
   "metadata": {
    "collapsed": true
   },
   "outputs": [],
   "source": [
    "#comment what is happens. Is it what you expect?\n",
    "\n",
    "answer = 2 + 2 * 3\n",
    "print(answer)"
   ]
  },
  {
   "cell_type": "code",
   "execution_count": null,
   "metadata": {
    "collapsed": true
   },
   "outputs": [],
   "source": [
    "Print('This is never going to... oh wait)"
   ]
  },
  {
   "cell_type": "code",
   "execution_count": null,
   "metadata": {
    "collapsed": true
   },
   "outputs": [],
   "source": [
    "# Why might functions be useful?"
   ]
  },
  {
   "cell_type": "code",
   "execution_count": null,
   "metadata": {
    "collapsed": true
   },
   "outputs": [],
   "source": [
    "# What is a variable?"
   ]
  }
 ],
 "metadata": {
  "anaconda-cloud": {},
  "kernelspec": {
   "display_name": "Python 3",
   "language": "python",
   "name": "python3"
  },
  "language_info": {
   "codemirror_mode": {
    "name": "ipython",
    "version": 3
   },
   "file_extension": ".py",
   "mimetype": "text/x-python",
   "name": "python",
   "nbconvert_exporter": "python",
   "pygments_lexer": "ipython3",
   "version": "3.5.2"
  }
 },
 "nbformat": 4,
 "nbformat_minor": 1
}
