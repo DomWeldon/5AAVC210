{
 "cells": [
  {
   "cell_type": "markdown",
   "metadata": {},
   "source": [
    "<div style=\"display: block; width: 100%; height: 100px;\">\n",
    "\n",
    "<p style=\"float: left;\">\n",
    "    <span style=\"font-weight: bold; line-height: 24px; font-size: 16px;\">\n",
    "        Department of Digital Humanities\n",
    "        <br />\n",
    "        5AAVC210 Introduction to Programming in Python 2017-2018\n",
    "    </span>\n",
    "    <br >\n",
    "    <span style=\"line-height: 22x; font-size: 14x; margin-top: 10px;\">\n",
    "        Created by Dom Weldon (dominic.weldon@gmail.com) <br />\n",
    "        Office Hours: Thursdays, 11am to 1pm, K-1.026 (King's Building, Strand Campus) <br />\n",
    "        Submit your completed answers through [KEATS](https://keats.kcl.ac.uk/course/view.php?id=44442) **before 4pm on 18 Jan 2018**.\n",
    "    </span>\n",
    "</p>\n",
    "\n",
    "<img style=\"width: 120px; height: 90px; float: right; margin: 0 0 0 0;\" src=\"data:image/svg+xml;base64,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\" />\n",
    "</div>"
   ]
  },
  {
   "cell_type": "markdown",
   "metadata": {},
   "source": [
    "# Week 1: Welcome, Induction and Syntax!\n",
    "\n"
   ]
  },
  {
   "cell_type": "markdown",
   "metadata": {},
   "source": [
    "Congratulations on choosing to take the best course in the entire college! This course aims to teach you the basic syntax and structures of the python programming language, allowing you to write programs aimed at solving problems and analyzing data.\n",
    "\n",
    "By the end of the course, you should:\n",
    "\n",
    "* have a systematic understanding of how to create and run a Python program;\n",
    "* have a detailed knowledge of the basic structures that underlie the Python programming language;\n",
    "* be able to identify and analyse a problem and select the appropriate programmatic methods to solve that problem;\n",
    "* harvest data from the web by using Python’s third-party libraries request and beautifulsoup;\n",
    "* visualize and analyze harvested data by using Python’s third-party libraries matplotlib, bokeh and pandas. \n",
    "\n",
    "## How the Course Works\n",
    "\n",
    "The course is taught through ten lectures, and ten seminars/practicals. In the practicals each week, you will be expected to work through a Jupyter notebook like this one (indeed, reading this is part of this week's exercise) and complete the exercises and problems in it. At the end of the week you must [submit the notebook via KEATS](https://keats.kcl.ac.uk/course/view.php?id=44442) **before the deadline, which is the Thursday after the notebook was set, no later than 4pm.**\n",
    "\n",
    "There are three components to the assessment:\n",
    "\n",
    "* Continual assessment via ten weekly notebook submissions (2% per notebook);\n",
    "* Mid-term project, to be submitted by 4pm on 26 Feb 2018 (30%);\n",
    "* End of term project, to be submitted by 4pm on 08 May 2018 (50%).\n",
    "\n",
    "## Future Practical Times\n",
    "\n",
    "In order to get the most out of each practical, I would like us to run them together rather than one after the other. At present, the practicals are scheduled for 1 hour each (i.e., 1.30pm to 2.30pm, and 2.30pm to 3.30pm). In future weeks, **the practical will run from 1.30pm to 3.30pm in 1.63 in the Maughn Library**.\n",
    "\n",
    "## This Week's Aims\n",
    "\n",
    "This week we're going to ensure that everyone can run python on their computers, and then focus on some of the basic python syntax (i.e., the grammar of the language). By the end of this week, you should:\n",
    "\n",
    "* be comfortable running Python in a Jupyter notebook on a KCL computer and your own laptop;\n",
    "* uderstand how to use a Jupyter notebook;\n",
    "* hve written a `Hello, World!` program;\n",
    "* understand how to use the `print()` function, assign values to a variable and have a basic understanding of types;\n",
    "* know what a comment is;\n",
    "* be able to add and multiply numbers together using python;\n",
    "* know the meanings of the following terms: `function`, `string`, `integer`, `type`, `variable`.\n",
    "\n",
    "*With the induction out of the way, let's crack on and begin to learn how to write code!*"
   ]
  },
  {
   "cell_type": "markdown",
   "metadata": {},
   "source": [
    "# 1. `Hello, World!`\n",
    "\n",
    "\n",
    "Even if programming is a [comparatively young art](https://en.wikipedia.org/wiki/History_of_programming_languages), it still has its traditions. One of these traditions is the `Hello, World!` program which is the first program that most people ever write whilst learning how to program; [it dates back as far as 1974](https://en.wikipedia.org/wiki/History_of_programming_languages).\n",
    "\n",
    "In the cell below, you will now write your own `Hello, World!` program. Once you have figured out what to write, run it using the button marked <i class=\"fa-step-forward fa\"></i> `Run` and see what appears!\n",
    "\n",
    "As a tip, you want to pass text (inside `'quotation marks like this'`) to the `print()` **function**. Functions are tools which do things in your program, they take **arguments** `('inside brackets like this')`. You therefore need to supply `'Hello, World!'` as an argument to the `print()` function."
   ]
  },
  {
   "cell_type": "code",
   "execution_count": null,
   "metadata": {},
   "outputs": [],
   "source": [
    "# put your Hello, World! code in this cell\n"
   ]
  },
  {
   "cell_type": "markdown",
   "metadata": {},
   "source": [
    "Stuck? You can see a [basic hello world program here](https://github.com/DomWeldon/5AAVC210/blob/master/examples/01-hello-world.py), but please do spend a few minutes figuring it out first, you'll learn far more that way!"
   ]
  },
  {
   "cell_type": "markdown",
   "metadata": {},
   "source": [
    "## 2. Python, Jupyter and our Notebooks\n",
    "\n",
    "Congratulations, you're now a programmer! Before we go on though, a quick word about Python itself, and how notebooks will work throughout this course.\n",
    "\n",
    "Python is the name of a programming language created by [Guido van Rossum](https://en.wikipedia.org/wiki/Guido_van_Rossum) in the early 1990s, and it is one of many, many programming languages available. Python is a very robust and very popular language, which is why we have chosen to learn it on our course. There are lots of ways that python can be run, the way we have chosen to run python is using *Jupyter Notebooks*, which provide a useable web interface, and allow you to combine text (like this) with code (like the `Hello, World!` program above) very neatly and clearly.\n",
    "\n",
    "You are expected to submit Jupyter Notebooks for all of your assignments, and use a mixture of text cells and code cells to make your code clear and easy to read.\n",
    "\n",
    "In these notebooks, you will mostly be asked to write code in code cells, but occasionally you will also be asked to type into a text cell.\n",
    "\n",
    "Every cell has to be <i class=\"fa-step-forward fa\"></i> `Run` to work. For more complex programs, it will be important to run the cells in the right order, too (i.e., run the cell at the top first, then the next one down etc.). \n",
    "\n",
    "You can specify the type of a cell in the `Cell > Type` menu. Text cells have the type [`Markdown`, which is a very basic and easy to write formatting system](https://github.com/adam-p/markdown-here/wiki/Markdown-Cheatsheet). To edit a text cell which has already been run, just double click on it.\n",
    "\n",
    "You can also insert cells using the `Insert` menu, and move them up and down relative to one another using the <i class=\"fa-arrow-up fa\"></i> and <i class=\"fa-arrow-down fa\"></i> buttons.\n",
    "\n",
    "### Comments\n",
    "\n",
    "You'll also find that a lot of cells have comments in them. A comment is a note we leave for ourselves when writing code, explaining what we're thinking or doing. Python ignores these comments entirely, so we can write in standard English.\n",
    "\n",
    "A comment is anything that starts with the hash (`#`) symbol, a comment can take up an entire line, or just the rest of a line containing code. See the two comments below."
   ]
  },
  {
   "cell_type": "code",
   "execution_count": null,
   "metadata": {},
   "outputs": [],
   "source": [
    "# here's a dog\n",
    "print('Woof!')\n",
    "print('Meow!')  # and that was a cat\n",
    "# but let's hide the chicken\n",
    "# print('Cockadoodledo!')"
   ]
  },
  {
   "cell_type": "markdown",
   "metadata": {},
   "source": [
    "It's good to include comments in your code to explain what is happening in it or what the intention of the code is. You'll also sometimes be asked to 'comment out' a line to stop it from running (like `print('Cockadoodledo!')` above)."
   ]
  },
  {
   "cell_type": "markdown",
   "metadata": {},
   "source": [
    "### Exercise\n",
    "\n",
    "*Write something in this text cell to show you have understood how to edit text cells. Then insert a code cell below it and copy your `Hello, World!` program into it and add a comment.*"
   ]
  },
  {
   "cell_type": "markdown",
   "metadata": {},
   "source": [
    "## 3. Printing Things\n",
    "\n",
    "Now we're going to practice printing some more strings.\n",
    "\n",
    "*In the cell below, change the text to print out the lyrics to a different song.* If you've not come across it before, [*The Lumberjack Song*](https://www.youtube.com/watch?v=QgaRd4d8hOY) is a song by the British comedy group Monty *Python* which premiered on TV in 1969."
   ]
  },
  {
   "cell_type": "code",
   "execution_count": null,
   "metadata": {},
   "outputs": [],
   "source": [
    "print('I never wanted to do this in the first place!')\n",
    "print('I...  I wanted to be... A LUMBERJACK!')"
   ]
  },
  {
   "cell_type": "markdown",
   "metadata": {},
   "source": [
    "Sometimes, we want to pring more than one thing at a time, like in the cell below. In python, we can do this by either calling the `print()` statement twice (one after the other), or supplying two arguments to `print()`, one after the other."
   ]
  },
  {
   "cell_type": "code",
   "execution_count": null,
   "metadata": {},
   "outputs": [],
   "source": [
    "print(\"this is one argument\", \"and this is another\")\n",
    "\n",
    "# rewrite the first lumberjack song in the manner above"
   ]
  },
  {
   "cell_type": "markdown",
   "metadata": {},
   "source": [
    "Now print the entire first verse of *The Lumberjack Song* using code. Write the code in the cell below and ensure that each line is printed on a new line.\n",
    "<br/>\n",
    "<br/>\n",
    "<br/>\n",
    "\n",
    "<div style=\"text-align: center;\">\n",
    "*Leaping from tree to tree!  As they float down the mighty rivers<br/>\n",
    "of British Columbia!  With my best girl by my side!<br/>\n",
    "The Larch!<br/>\n",
    "The Pine! <br/>\n",
    "The Giant Redwood tree! <br/>\n",
    "The Sequoia! <br/>\n",
    "The Little Whopping Rule Tree! <br/>\n",
    "We'd sing!  Sing!  Sing!*\n",
    "</div>"
   ]
  },
  {
   "cell_type": "code",
   "execution_count": null,
   "metadata": {},
   "outputs": [],
   "source": [
    "# put your code in here"
   ]
  },
  {
   "cell_type": "markdown",
   "metadata": {},
   "source": [
    "So far our text so far has been quite simple and not contained any special characters like quotation marks. But what if our text is more complicated? Well, unfortunately the chorus of that song is a little more complex. See what happens when we try to print this?"
   ]
  },
  {
   "cell_type": "code",
   "execution_count": 1,
   "metadata": {},
   "outputs": [
    {
     "ename": "SyntaxError",
     "evalue": "invalid syntax (<ipython-input-1-a064f778131c>, line 1)",
     "output_type": "error",
     "traceback": [
      "\u001b[0;36m  File \u001b[0;32m\"<ipython-input-1-a064f778131c>\"\u001b[0;36m, line \u001b[0;32m1\u001b[0m\n\u001b[0;31m    print('Oh, I'm a lumberjack, and I'm okay,')\u001b[0m\n\u001b[0m                 ^\u001b[0m\n\u001b[0;31mSyntaxError\u001b[0m\u001b[0;31m:\u001b[0m invalid syntax\n"
     ]
    }
   ],
   "source": [
    "print('Oh, I'm a lumberjack, and I'm okay,')"
   ]
  },
  {
   "cell_type": "markdown",
   "metadata": {},
   "source": [
    "Oh no! Our first `SyntaxError` - now you're really a programmer! Don't worry when you see something like this - it's called a **traceback** and shows where there's an error in your code and how to fix it. This error is a `SuntaxError`, it means that there is a problem in the way your code is written, think of it like a spelling or grammar error in an essay. The exact place the error is happening is shown using the caret symbol (`^`).\n",
    "\n",
    "Explain what is causing this error in the text cell below."
   ]
  },
  {
   "cell_type": "markdown",
   "metadata": {},
   "source": [
    "*This error is happening because...*"
   ]
  },
  {
   "cell_type": "markdown",
   "metadata": {},
   "source": [
    "Luckily, whenever you encounter an error, it's generally quite easy to find help. In this case, [there's a handy online tutorial which can assist](https://www.digitalocean.com/community/tutorials/how-to-format-text-in-python-3). Read through this then print out the lyrics which are commented out below."
   ]
  },
  {
   "cell_type": "code",
   "execution_count": null,
   "metadata": {},
   "outputs": [],
   "source": [
    "# Oh, I'm a lumberjack, and I'm okay, \n",
    "# I sleep all night and I work all day. \n",
    "\n",
    "# He's a lumberjack, and he's okay, \n",
    "# He sleeps all night and he works all day. "
   ]
  },
  {
   "cell_type": "markdown",
   "metadata": {},
   "source": [
    "## 4. Variables and Types\n",
    "\n",
    "Okay, so now we can print things comfortably. But what about if we want to print something other than just text? \n",
    "\n",
    "So far, everything we've printed has been a direct text value that we've written into the code ourselves. In python, we call something we literally write into the code a **literal**. This is as opposed to a variable, which is something we don't necessarily know the value of, but which we assign a name to.\n",
    "\n",
    "Let's think back to school. In the equation `y = 2x + 5`, there are two variables, `x` and `y`. These variables can be any value at all, and if we set one, then we set the value of the other. \n",
    "\n",
    "In python, we do the same thing, like in the code below."
   ]
  },
  {
   "cell_type": "code",
   "execution_count": 3,
   "metadata": {},
   "outputs": [
    {
     "name": "stdout",
     "output_type": "stream",
     "text": [
      "13\n"
     ]
    }
   ],
   "source": [
    "x = 4\n",
    "y = x * 2 + 5\n",
    "print(y)"
   ]
  },
  {
   "cell_type": "markdown",
   "metadata": {},
   "source": [
    "*Double click on this cell and explain what happened on each of the three lines of code above.*"
   ]
  },
  {
   "cell_type": "markdown",
   "metadata": {},
   "source": [
    "Variables (and well, everything) in python have types. So far we have only come across two types: **strings** (which are what we call text, i.e., strings of characters) and **integers** (whole numbers). There are several other basic types, and in advanced python programs we can also make our own types to suit our program.\n",
    "\n",
    "The three types we'll cover this week are: \n",
    "\n",
    "* `str` - strings, or text\n",
    "* `int` - whole numbers\n",
    "* `float` - numbers with a decimal point e.g., 1.0 or 1.5\n",
    "\n",
    "\n",
    "Uncomment all the strings in the cell below, and write code so thay they are printed out to the user."
   ]
  },
  {
   "cell_type": "code",
   "execution_count": 4,
   "metadata": {},
   "outputs": [
    {
     "name": "stdout",
     "output_type": "stream",
     "text": [
      "<class 'builtin_function_or_method'>\n"
     ]
    }
   ],
   "source": [
    "# 100\n",
    "# \"Hello there!\"\n",
    "# print()\n",
    "# '29'\n",
    "# \"\"\"There are 5 million bicycles in Beijing\"\"\"\n",
    "# '''That's a fact'''\n",
    "# 2.90\n",
    "# 33 * 3"
   ]
  },
  {
   "cell_type": "markdown",
   "metadata": {},
   "source": [
    "Do the same for all the integers in the cell below."
   ]
  },
  {
   "cell_type": "code",
   "execution_count": null,
   "metadata": {},
   "outputs": [],
   "source": [
    "# One hundred\n",
    "# 33\n",
    "# 3.33\n",
    "# \"100\"\n",
    "# \"101.1\"\n",
    "# 0\n",
    "# 67\n",
    "# None"
   ]
  },
  {
   "cell_type": "markdown",
   "metadata": {},
   "source": [
    "To find out a variable's type, we can use the `type()` function. Print out the type of all the variables below with their type."
   ]
  },
  {
   "cell_type": "code",
   "execution_count": null,
   "metadata": {},
   "outputs": [],
   "source": [
    "lumberjack = \"okay\"\n",
    "my_age = 27\n",
    "i_deserve = 1000000.00"
   ]
  },
  {
   "cell_type": "markdown",
   "metadata": {},
   "source": [
    "Variables are especially useful when we want to display something to the user that we may wish to work out, or take values for from elsewhere. Change the example below to another set of values."
   ]
  },
  {
   "cell_type": "code",
   "execution_count": 8,
   "metadata": {},
   "outputs": [
    {
     "name": "stdout",
     "output_type": "stream",
     "text": [
      "He is a lumberjack and He is okay!\n"
     ]
    }
   ],
   "source": [
    "pronoun = \"He\"\n",
    "occupation = \"lumberjack\"\n",
    "judgement = \"okay!\"\n",
    "print(pronoun, \"is a\", occupation, \"and\", pronoun, \"is\", judgement)"
   ]
  },
  {
   "cell_type": "markdown",
   "metadata": {},
   "source": [
    "## 6. Let's Do Some Maths"
   ]
  },
  {
   "cell_type": "code",
   "execution_count": null,
   "metadata": {},
   "outputs": [],
   "source": []
  },
  {
   "cell_type": "markdown",
   "metadata": {},
   "source": [
    "## 6. Terminology "
   ]
  },
  {
   "cell_type": "markdown",
   "metadata": {},
   "source": [
    "In the cell below explain what each of the terms mean."
   ]
  },
  {
   "cell_type": "markdown",
   "metadata": {},
   "source": [
    "**Variable**\n",
    "Explanation here\n",
    "\n",
    "**Type**\n",
    "Explanation here\n",
    "\n",
    "**Integer**\n",
    "Explanation here\n",
    "\n",
    "**Float**\n",
    "Explanation here\n",
    "\n",
    "**String**\n",
    "Explanation here\n",
    "\n",
    "**Hello, World!**\n",
    "Explanation here\n",
    "\n",
    "**Jupyter**\n",
    "Explanation here\n",
    "\n",
    "**Cell**\n",
    "Explanation here"
   ]
  },
  {
   "cell_type": "markdown",
   "metadata": {},
   "source": [
    "## 7. This Week's Problem"
   ]
  },
  {
   "cell_type": "markdown",
   "metadata": {},
   "source": [
    "**Diagram to Follow**\n",
    "\n",
    "Assume that the floor of room 1.63 in the Maughn Library is a regular trapezoid which is 30m long at its base, 20m long at the top, and 15m high. Using only addition, substraction and multiplication, calculate the area of room 1.63. Further, if the room is 5m high, what is its volume?"
   ]
  },
  {
   "cell_type": "code",
   "execution_count": null,
   "metadata": {},
   "outputs": [],
   "source": [
    "# what variables do you need?\n",
    "\n",
    "# what are you going to do to the variables?\n",
    "\n",
    "# how are you going to display it to the user?"
   ]
  },
  {
   "cell_type": "markdown",
   "metadata": {},
   "source": [
    "## Optional: Going Further\n",
    "\n",
    "* [Good tutorial on variables and types](https://www.learnpython.org/en/Variables_and_Types). "
   ]
  },
  {
   "cell_type": "markdown",
   "metadata": {},
   "source": [
    "Explain what is happening in the cell below."
   ]
  },
  {
   "cell_type": "code",
   "execution_count": null,
   "metadata": {},
   "outputs": [],
   "source": [
    "print(type(print))"
   ]
  },
  {
   "cell_type": "markdown",
   "metadata": {},
   "source": [
    "*Double click here and write your answer*"
   ]
  },
  {
   "cell_type": "code",
   "execution_count": null,
   "metadata": {},
   "outputs": [],
   "source": []
  }
 ],
 "metadata": {
  "kernelspec": {
   "display_name": "Python 3",
   "language": "python",
   "name": "python3"
  },
  "language_info": {
   "codemirror_mode": {
    "name": "ipython",
    "version": 3
   },
   "file_extension": ".py",
   "mimetype": "text/x-python",
   "name": "python",
   "nbconvert_exporter": "python",
   "pygments_lexer": "ipython3",
   "version": "3.5.2"
  }
 },
 "nbformat": 4,
 "nbformat_minor": 2
}
