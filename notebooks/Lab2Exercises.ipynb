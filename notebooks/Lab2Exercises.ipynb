{
 "cells": [
  {
   "cell_type": "code",
   "execution_count": null,
   "metadata": {
    "collapsed": true
   },
   "outputs": [],
   "source": [
    "original_string = \"Initial string\"\n",
    "new_string1 = original_string\n",
    "new_string2 = original_string\n",
    "\n",
    "# Print out the values of the three strings\n",
    "\n",
    "original_string = \"Changed string\"\n",
    "\n",
    "# Print out the values of the three strings\n",
    "\n",
    "new_string1 = \"Secondary string\"\n",
    "\n",
    "# Print out the values of the three strings\n",
    "\n",
    "# Add a comment saying what you notice about the values"
   ]
  },
  {
   "cell_type": "code",
   "execution_count": null,
   "metadata": {
    "collapsed": true
   },
   "outputs": [],
   "source": [
    "spam = \"2\"\n",
    "\n",
    "# The type(object) function allows you to check what type a variable is. \n",
    "#Run this function on the variable spam by replacing <object> with the variable spam\n",
    "\n",
    "type(<object>)"
   ]
  },
  {
   "cell_type": "code",
   "execution_count": null,
   "metadata": {
    "collapsed": true
   },
   "outputs": [],
   "source": [
    "eggs = spam + \"2\"\n",
    "\n",
    "# print out the value of eggs \n",
    "\n",
    "# the function int() takes a string or a float as an argument and returns an error or the number as an integer \n",
    "\n",
    "print(int(spam) + 2)\n",
    "\n",
    "eggs = spam + \"2\"\n",
    "print(eggs)          # Why is this value the same as it was before\n",
    "\n",
    "# create a new variable that stores the value returned by the casting function \n",
    "\n",
    "# using you new variable, print out the value when 2 is added\n"
   ]
  },
  {
   "cell_type": "code",
   "execution_count": null,
   "metadata": {
    "collapsed": true
   },
   "outputs": [],
   "source": [
    "# If you want to change the value of a variable you can assign the new value back to the same variable\n",
    "\n",
    "foo = 5\n",
    "foo = foo + 5\n",
    "print(foo)\n",
    "\n",
    "# use this method to make the value of eggs of type int\n",
    "# use the type function to confirm the type after you have assigned it the new value\n"
   ]
  },
  {
   "cell_type": "code",
   "execution_count": null,
   "metadata": {
    "collapsed": true
   },
   "outputs": [],
   "source": [
    "# the function len(x) takes a sequence, x, and returns the length. The sequence can be a string.\n",
    "\n",
    "len(\"how long am i?\")\n",
    "\n",
    "magic_word = \"Supercalifragilisticexpialidocious!\"\n",
    "\n",
    "# How long is the magic_word?\n"
   ]
  },
  {
   "cell_type": "code",
   "execution_count": null,
   "metadata": {
    "collapsed": true
   },
   "outputs": [],
   "source": [
    "# the strong functions s.upper() and s.lower() return the value of the string they are called on in \n",
    "# upper and lower case respectively\n",
    "\n",
    "bar = \"SPAM\"\n",
    "print(bar.lower())\n",
    "\n",
    "spam = \"sPaM\"\n",
    "\n",
    "# just using the variable spam and the upper and lower functions create the following sequence of words \n",
    "#(you may assign the sequence to a new variable for printing or print the value directly):\n",
    "# spam spam SPAM spam SPAM SPAM sPaM "
   ]
  },
  {
   "cell_type": "code",
   "execution_count": null,
   "metadata": {
    "collapsed": true
   },
   "outputs": [],
   "source": [
    "prnt \"Ouch!\"  # What error message do you get when you try to run this statement?\n",
    "\n",
    "# make a note of any error message(s) in a comment as you correct the code\n"
   ]
  },
  {
   "cell_type": "code",
   "execution_count": null,
   "metadata": {
    "collapsed": true
   },
   "outputs": [],
   "source": [
    "# What error message do we get if we try to \"divide by zero\"?\n",
    "\n",
    "print(12 / 0)\n",
    "\n",
    "# make a note of the error in a comment and then change any one part of the \n",
    "# statement so that it runs without an error (i.e. make it a different mathematical statement)\n"
   ]
  },
  {
   "cell_type": "code",
   "execution_count": null,
   "metadata": {
    "collapsed": true
   },
   "outputs": [],
   "source": [
    "# Try adding a number to a string - what happens?"
   ]
  },
  {
   "cell_type": "code",
   "execution_count": null,
   "metadata": {
    "collapsed": true
   },
   "outputs": [],
   "source": [
    "# The operator for addition is a + and for multiplication is a *\n",
    "# print out the value of one plus three squared\n",
    "\n",
    "\n",
    "# create a new copy of the statement you have just created and then make the necessary changes assuming the desired answer is 16 (remember PEMDAS)\n",
    "\n"
   ]
  },
  {
   "cell_type": "code",
   "execution_count": null,
   "metadata": {
    "collapsed": true
   },
   "outputs": [],
   "source": [
    "# A docstring is the first thing in a function declaration. It describes what the function \n",
    "# does and is inside tripe quotes.\n",
    "# Add run the following and add a docstring to the function\n",
    "# NB. Make sure it still runs\n",
    "\n",
    "def hello_world():\n",
    "    print \"Hello World\"\n",
    "\n",
    "hello_world()\n"
   ]
  },
  {
   "cell_type": "code",
   "execution_count": null,
   "metadata": {
    "collapsed": true
   },
   "outputs": [],
   "source": [
    "# Create your own function which takes an object as an argument, multiplies it by 3 and prints out the result. \n",
    "# Call the function twice, once with a string  and once with a number (int or a float)"
   ]
  },
  {
   "cell_type": "code",
   "execution_count": null,
   "metadata": {
    "collapsed": true
   },
   "outputs": [],
   "source": [
    "# Create a new function that does the same thing as in the previous exercise but rather than \n",
    "# the function printing out the result itself, it returns the result. \n",
    "# Call the function and print out the returned result"
   ]
  },
  {
   "cell_type": "code",
   "execution_count": null,
   "metadata": {
    "collapsed": true
   },
   "outputs": [],
   "source": [
    "# In the python documentation (https://docs.python.org/3/library/stdtypes.html) look up the functions\n",
    "# that can be called on strings and numbers. \n",
    "# Find three functions that can be carried out on strings and one that can be carried out on numbers \n",
    "# which you think might be useful in the future and comment below with the names of the functions and what they do. "
   ]
  }
 ],
 "metadata": {
  "kernelspec": {
   "display_name": "Python 3",
   "language": "python",
   "name": "python3"
  },
  "language_info": {
   "codemirror_mode": {
    "name": "ipython",
    "version": 3
   },
   "file_extension": ".py",
   "mimetype": "text/x-python",
   "name": "python",
   "nbconvert_exporter": "python",
   "pygments_lexer": "ipython3",
   "version": "3.4.3"
  }
 },
 "nbformat": 4,
 "nbformat_minor": 0
}
